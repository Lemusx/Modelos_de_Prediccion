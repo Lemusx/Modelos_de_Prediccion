{
 "cells": [
  {
   "cell_type": "markdown",
   "metadata": {},
   "source": [
    "# Algoritmo de clasificacion de canciones\n",
    "\n",
    "26 Febrero 2018\n",
    "\n",
    "Alonso Jesús Aguirre Tobar\n",
    "\n",
    "## Desafio\n",
    "\n",
    "1. Analiza los dataset data_todotipo.csv y data_reggaeton.csv. ¿Qué puedes decir de los datos,\n",
    "distribuciones, missing, etc? ¿En qué se diferencian? Entregable: texto/imágenes.\n",
    "2. Consolida los dos datasets en uno solo y genera una marca para las canciones que sean\n",
    "reggaeton en base a los datasets. Entregable: csv con dataset y código (si es que usaste).\n",
    "3. Entrena uno o varios modelos (usando el/los algoritmo(s) que prefieras) para detectar qué\n",
    "canciones son reggaeton. Entregable: modelo en cualquier formato y código (si es que\n",
    "usaste).\n",
    "4. Evalúa tu modelo. ¿Qué performance tiene? ¿Qué métricas usas para evaluar esa\n",
    "performance? ¿Por qué elegiste ese algoritmo en particular? ¿Cómo podrías mejorar la\n",
    "performance​ ? Entregable: texto/imágenes.\n",
    "5. Aplica tu modelo sobre el dataset “data_test.csv”, agregándole a cada registro dos nuevos\n",
    "campos: marca_reggaeton (un 1 cuando es reggaetón, un 0 cuando no lo es) y\n",
    "probabilidad_reggaeton (probabilidad de que la canción sea reggaeton). ¿Cómo elegiste\n",
    "cuáles marcar? ¿De qué depende que predigas la existencia de mayor o menor cantidad de\n",
    "reggaetones? Entregable: texto/imágenes.\n",
    "\n",
    "## Informacion del dataset\n",
    "\n",
    "Como dice el título, vamos a hacer un detector de reggaetones. Para eso armamos un dataset usando\n",
    "la API de Spotify, que nos da información detallada de cada canción (documentación). Para cada\n",
    "canción se tienen los siguientes parámetros:  acousticness, danceability, duration_ms, energy,\n",
    "instrumentalness, key, liveness, loudness, mode, speechiness, tempo y  time_signature.\n",
    "Encontrarás tres archivos,\n",
    "● data_todotipo.csv tiene canciones NO reggaeton.\n",
    "● data_reggaeton.csv tiene SOLO canciones reggaeton.\n",
    "● data_test.csv será el dataset para testear la solución."
   ]
  },
  {
   "cell_type": "markdown",
   "metadata": {},
   "source": [
    "### Importar las librerías requeridas"
   ]
  },
  {
   "cell_type": "code",
   "execution_count": 1,
   "metadata": {},
   "outputs": [],
   "source": [
    "import pandas as pd\n",
    "import numpy as np\n",
    "import matplotlib.pyplot as plt\n",
    "import seaborn as sns\n",
    "from sklearn.model_selection import train_test_split, KFold, cross_val_score\n",
    "from sklearn.preprocessing import StandardScaler\n",
    "from sklearn.linear_model import LogisticRegression\n",
    "from sklearn.tree import DecisionTreeClassifier\n",
    "from sklearn.ensemble import RandomForestClassifier\n",
    "from sklearn.svm import SVC\n",
    "from sklearn.metrics import confusion_matrix, classification_report\n",
    "from sklearn.model_selection import cross_val_predict"
   ]
  },
  {
   "cell_type": "markdown",
   "metadata": {},
   "source": [
    "### Pregunta 1 y 2\n",
    "\n",
    "Se leen los datos y se revisa los missing values, datos NaN (elimine la columna 'id_new' puesto que tiene la misma correlacion con 'Unnamed: 0')"
   ]
  },
  {
   "cell_type": "code",
   "execution_count": 2,
   "metadata": {},
   "outputs": [
    {
     "data": {
      "text/plain": [
       "Unnamed: 0          0\n",
       "popularity          1\n",
       "danceability        8\n",
       "energy              8\n",
       "key                 8\n",
       "loudness            8\n",
       "mode                8\n",
       "speechiness         8\n",
       "acousticness        8\n",
       "instrumentalness    8\n",
       "liveness            8\n",
       "valence             8\n",
       "tempo               8\n",
       "duration            8\n",
       "time_signature      8\n",
       "dtype: int64"
      ]
     },
     "execution_count": 2,
     "metadata": {},
     "output_type": "execute_result"
    }
   ],
   "source": [
    "df = pd.read_csv('data_todotipo.csv')\n",
    "df = df.drop(columns='id_new')\n",
    "df.isnull().sum()"
   ]
  },
  {
   "cell_type": "markdown",
   "metadata": {},
   "source": [
    "Una vez identificadas las columnas que contienen valores NaN se reemplazaron por la media o mediana dependiendo del caso (el criterio para elegir una fue utilizar df.describe(), donde me entregaba la desviacion estandar, asi las columnas con mayor desviacion estandar se reemplazaron los NaN por la media. En cambio las columnas que tenian poca desviacion estandar se reemplazaron los NaN por la mediana)."
   ]
  },
  {
   "cell_type": "code",
   "execution_count": 3,
   "metadata": {},
   "outputs": [],
   "source": [
    "df['popularity'].fillna(df['popularity'].mean(), inplace = True)\n",
    "df['danceability'].fillna(df['danceability'].median(), inplace = True)\n",
    "df['energy'].fillna(df['energy'].median(), inplace = True)\n",
    "df['key'].fillna(df['key'].mean(), inplace = True)\n",
    "df['loudness'].fillna(df['loudness'].mean(), inplace = True)\n",
    "df['mode'].fillna(df['mode'].median(), inplace = True)\n",
    "df['speechiness'].fillna(df['speechiness'].median(), inplace = True)\n",
    "df['acousticness'].fillna(df['acousticness'].median(), inplace = True)\n",
    "df['instrumentalness'].fillna(df['instrumentalness'].median(), inplace = True)\n",
    "df['liveness'].fillna(df['liveness'].median(), inplace = True)\n",
    "df['valence'].fillna(df['valence'].median(), inplace = True)\n",
    "df['tempo'].fillna(df['tempo'].mean(), inplace = True)\n",
    "df['duration'].fillna(df['duration'].mean(), inplace = True)\n",
    "df['time_signature'].fillna(df['time_signature'].median(), inplace = True)\n",
    "df['class'] = np.array([0]*len(df))\n"
   ]
  },
  {
   "cell_type": "markdown",
   "metadata": {},
   "source": [
    "Se agrego una columna 'class' para clasificar si es (1) o no es (0) una cancion de Reggaeton, puesto que el primer archivo es exclusivamente de canciones que no son de reggaeton; se creo un vector con solo '0'. Verificamos ademas los valores nulos del mismo DataFrame"
   ]
  },
  {
   "cell_type": "code",
   "execution_count": 4,
   "metadata": {},
   "outputs": [
    {
     "data": {
      "text/plain": [
       "Unnamed: 0          0\n",
       "popularity          0\n",
       "danceability        0\n",
       "energy              0\n",
       "key                 0\n",
       "loudness            0\n",
       "mode                0\n",
       "speechiness         0\n",
       "acousticness        0\n",
       "instrumentalness    0\n",
       "liveness            0\n",
       "valence             0\n",
       "tempo               0\n",
       "duration            0\n",
       "time_signature      0\n",
       "class               0\n",
       "dtype: int64"
      ]
     },
     "execution_count": 4,
     "metadata": {},
     "output_type": "execute_result"
    }
   ],
   "source": [
    "df.isnull().sum()"
   ]
  },
  {
   "cell_type": "code",
   "execution_count": 5,
   "metadata": {},
   "outputs": [
    {
     "data": {
      "text/html": [
       "<div>\n",
       "<style scoped>\n",
       "    .dataframe tbody tr th:only-of-type {\n",
       "        vertical-align: middle;\n",
       "    }\n",
       "\n",
       "    .dataframe tbody tr th {\n",
       "        vertical-align: top;\n",
       "    }\n",
       "\n",
       "    .dataframe thead th {\n",
       "        text-align: right;\n",
       "    }\n",
       "</style>\n",
       "<table border=\"1\" class=\"dataframe\">\n",
       "  <thead>\n",
       "    <tr style=\"text-align: right;\">\n",
       "      <th></th>\n",
       "      <th>Unnamed: 0</th>\n",
       "      <th>popularity</th>\n",
       "      <th>danceability</th>\n",
       "      <th>energy</th>\n",
       "      <th>key</th>\n",
       "      <th>loudness</th>\n",
       "      <th>mode</th>\n",
       "      <th>speechiness</th>\n",
       "      <th>acousticness</th>\n",
       "      <th>instrumentalness</th>\n",
       "      <th>liveness</th>\n",
       "      <th>valence</th>\n",
       "      <th>tempo</th>\n",
       "      <th>duration</th>\n",
       "      <th>time_signature</th>\n",
       "      <th>class</th>\n",
       "    </tr>\n",
       "  </thead>\n",
       "  <tbody>\n",
       "    <tr>\n",
       "      <th>count</th>\n",
       "      <td>2230.000000</td>\n",
       "      <td>2230.000000</td>\n",
       "      <td>2230.000000</td>\n",
       "      <td>2230.000000</td>\n",
       "      <td>2230.000000</td>\n",
       "      <td>2230.000000</td>\n",
       "      <td>2230.000000</td>\n",
       "      <td>2230.000000</td>\n",
       "      <td>2230.000000</td>\n",
       "      <td>2230.000000</td>\n",
       "      <td>2230.000000</td>\n",
       "      <td>2230.000000</td>\n",
       "      <td>2230.000000</td>\n",
       "      <td>2230.000000</td>\n",
       "      <td>2230.000000</td>\n",
       "      <td>2230.0</td>\n",
       "    </tr>\n",
       "    <tr>\n",
       "      <th>mean</th>\n",
       "      <td>1115.500000</td>\n",
       "      <td>51.938537</td>\n",
       "      <td>0.566484</td>\n",
       "      <td>0.607492</td>\n",
       "      <td>5.175518</td>\n",
       "      <td>-9.641344</td>\n",
       "      <td>0.598206</td>\n",
       "      <td>0.067641</td>\n",
       "      <td>0.345921</td>\n",
       "      <td>0.214445</td>\n",
       "      <td>0.179408</td>\n",
       "      <td>0.530877</td>\n",
       "      <td>118.338830</td>\n",
       "      <td>233872.923042</td>\n",
       "      <td>3.903139</td>\n",
       "      <td>0.0</td>\n",
       "    </tr>\n",
       "    <tr>\n",
       "      <th>std</th>\n",
       "      <td>643.889872</td>\n",
       "      <td>17.636815</td>\n",
       "      <td>0.165591</td>\n",
       "      <td>0.281816</td>\n",
       "      <td>3.513452</td>\n",
       "      <td>6.130354</td>\n",
       "      <td>0.490371</td>\n",
       "      <td>0.063383</td>\n",
       "      <td>0.360210</td>\n",
       "      <td>0.351168</td>\n",
       "      <td>0.153859</td>\n",
       "      <td>0.274594</td>\n",
       "      <td>28.476074</td>\n",
       "      <td>77804.499142</td>\n",
       "      <td>0.390027</td>\n",
       "      <td>0.0</td>\n",
       "    </tr>\n",
       "    <tr>\n",
       "      <th>min</th>\n",
       "      <td>1.000000</td>\n",
       "      <td>0.000000</td>\n",
       "      <td>0.062700</td>\n",
       "      <td>0.001810</td>\n",
       "      <td>0.000000</td>\n",
       "      <td>-42.117000</td>\n",
       "      <td>0.000000</td>\n",
       "      <td>0.023100</td>\n",
       "      <td>0.000002</td>\n",
       "      <td>0.000000</td>\n",
       "      <td>0.018000</td>\n",
       "      <td>0.027900</td>\n",
       "      <td>33.579000</td>\n",
       "      <td>46667.000000</td>\n",
       "      <td>1.000000</td>\n",
       "      <td>0.0</td>\n",
       "    </tr>\n",
       "    <tr>\n",
       "      <th>25%</th>\n",
       "      <td>558.250000</td>\n",
       "      <td>42.000000</td>\n",
       "      <td>0.456000</td>\n",
       "      <td>0.407500</td>\n",
       "      <td>2.000000</td>\n",
       "      <td>-11.302250</td>\n",
       "      <td>0.000000</td>\n",
       "      <td>0.035525</td>\n",
       "      <td>0.021650</td>\n",
       "      <td>0.000005</td>\n",
       "      <td>0.089725</td>\n",
       "      <td>0.298000</td>\n",
       "      <td>97.445750</td>\n",
       "      <td>187240.000000</td>\n",
       "      <td>4.000000</td>\n",
       "      <td>0.0</td>\n",
       "    </tr>\n",
       "    <tr>\n",
       "      <th>50%</th>\n",
       "      <td>1115.500000</td>\n",
       "      <td>56.000000</td>\n",
       "      <td>0.579000</td>\n",
       "      <td>0.671000</td>\n",
       "      <td>5.000000</td>\n",
       "      <td>-8.047000</td>\n",
       "      <td>1.000000</td>\n",
       "      <td>0.045700</td>\n",
       "      <td>0.189000</td>\n",
       "      <td>0.001660</td>\n",
       "      <td>0.118500</td>\n",
       "      <td>0.538500</td>\n",
       "      <td>117.996500</td>\n",
       "      <td>225493.000000</td>\n",
       "      <td>4.000000</td>\n",
       "      <td>0.0</td>\n",
       "    </tr>\n",
       "    <tr>\n",
       "      <th>75%</th>\n",
       "      <td>1672.750000</td>\n",
       "      <td>64.000000</td>\n",
       "      <td>0.690000</td>\n",
       "      <td>0.847000</td>\n",
       "      <td>8.000000</td>\n",
       "      <td>-5.703750</td>\n",
       "      <td>1.000000</td>\n",
       "      <td>0.069900</td>\n",
       "      <td>0.664000</td>\n",
       "      <td>0.321000</td>\n",
       "      <td>0.217000</td>\n",
       "      <td>0.766000</td>\n",
       "      <td>133.849750</td>\n",
       "      <td>272103.000000</td>\n",
       "      <td>4.000000</td>\n",
       "      <td>0.0</td>\n",
       "    </tr>\n",
       "    <tr>\n",
       "      <th>max</th>\n",
       "      <td>2230.000000</td>\n",
       "      <td>98.000000</td>\n",
       "      <td>0.942000</td>\n",
       "      <td>0.998000</td>\n",
       "      <td>11.000000</td>\n",
       "      <td>-0.282000</td>\n",
       "      <td>1.000000</td>\n",
       "      <td>0.668000</td>\n",
       "      <td>0.996000</td>\n",
       "      <td>0.985000</td>\n",
       "      <td>0.978000</td>\n",
       "      <td>0.982000</td>\n",
       "      <td>211.893000</td>\n",
       "      <td>768507.000000</td>\n",
       "      <td>5.000000</td>\n",
       "      <td>0.0</td>\n",
       "    </tr>\n",
       "  </tbody>\n",
       "</table>\n",
       "</div>"
      ],
      "text/plain": [
       "        Unnamed: 0   popularity  danceability       energy          key  \\\n",
       "count  2230.000000  2230.000000   2230.000000  2230.000000  2230.000000   \n",
       "mean   1115.500000    51.938537      0.566484     0.607492     5.175518   \n",
       "std     643.889872    17.636815      0.165591     0.281816     3.513452   \n",
       "min       1.000000     0.000000      0.062700     0.001810     0.000000   \n",
       "25%     558.250000    42.000000      0.456000     0.407500     2.000000   \n",
       "50%    1115.500000    56.000000      0.579000     0.671000     5.000000   \n",
       "75%    1672.750000    64.000000      0.690000     0.847000     8.000000   \n",
       "max    2230.000000    98.000000      0.942000     0.998000    11.000000   \n",
       "\n",
       "          loudness         mode  speechiness  acousticness  instrumentalness  \\\n",
       "count  2230.000000  2230.000000  2230.000000   2230.000000       2230.000000   \n",
       "mean     -9.641344     0.598206     0.067641      0.345921          0.214445   \n",
       "std       6.130354     0.490371     0.063383      0.360210          0.351168   \n",
       "min     -42.117000     0.000000     0.023100      0.000002          0.000000   \n",
       "25%     -11.302250     0.000000     0.035525      0.021650          0.000005   \n",
       "50%      -8.047000     1.000000     0.045700      0.189000          0.001660   \n",
       "75%      -5.703750     1.000000     0.069900      0.664000          0.321000   \n",
       "max      -0.282000     1.000000     0.668000      0.996000          0.985000   \n",
       "\n",
       "          liveness      valence        tempo       duration  time_signature  \\\n",
       "count  2230.000000  2230.000000  2230.000000    2230.000000     2230.000000   \n",
       "mean      0.179408     0.530877   118.338830  233872.923042        3.903139   \n",
       "std       0.153859     0.274594    28.476074   77804.499142        0.390027   \n",
       "min       0.018000     0.027900    33.579000   46667.000000        1.000000   \n",
       "25%       0.089725     0.298000    97.445750  187240.000000        4.000000   \n",
       "50%       0.118500     0.538500   117.996500  225493.000000        4.000000   \n",
       "75%       0.217000     0.766000   133.849750  272103.000000        4.000000   \n",
       "max       0.978000     0.982000   211.893000  768507.000000        5.000000   \n",
       "\n",
       "        class  \n",
       "count  2230.0  \n",
       "mean      0.0  \n",
       "std       0.0  \n",
       "min       0.0  \n",
       "25%       0.0  \n",
       "50%       0.0  \n",
       "75%       0.0  \n",
       "max       0.0  "
      ]
     },
     "execution_count": 5,
     "metadata": {},
     "output_type": "execute_result"
    }
   ],
   "source": [
    "df.describe()"
   ]
  },
  {
   "cell_type": "markdown",
   "metadata": {},
   "source": [
    "La cantidad de datos es 2230, y la media de la columna 'class' es 0, es logico puesto que es una columna de ceros."
   ]
  },
  {
   "cell_type": "markdown",
   "metadata": {},
   "source": [
    "Se lee el siguiente archivo y se agrega la coluna que permite clasificar si es o no es una cancion de reggaeton, puesto que el archivo es unicamente canciones de reggaeton; se creo un arreglo de valores 1 con longitud del DataFrame"
   ]
  },
  {
   "cell_type": "code",
   "execution_count": 6,
   "metadata": {},
   "outputs": [],
   "source": [
    "df2 = pd.read_csv('data_reggaeton.csv')\n",
    "df2['class'] = np.array([1]*len(df2))"
   ]
  },
  {
   "cell_type": "code",
   "execution_count": 7,
   "metadata": {},
   "outputs": [
    {
     "data": {
      "text/plain": [
       "Unnamed: 0          0\n",
       "popularity          0\n",
       "danceability        0\n",
       "energy              0\n",
       "key                 0\n",
       "loudness            0\n",
       "mode                0\n",
       "speechiness         0\n",
       "acousticness        0\n",
       "instrumentalness    0\n",
       "liveness            0\n",
       "valence             0\n",
       "tempo               0\n",
       "duration            0\n",
       "time_signature      0\n",
       "class               0\n",
       "dtype: int64"
      ]
     },
     "execution_count": 7,
     "metadata": {},
     "output_type": "execute_result"
    }
   ],
   "source": [
    "df.isnull().sum()"
   ]
  },
  {
   "cell_type": "markdown",
   "metadata": {},
   "source": [
    "No hay valores nulos, entonces seguimos con la exploracion de datos"
   ]
  },
  {
   "cell_type": "code",
   "execution_count": 8,
   "metadata": {},
   "outputs": [
    {
     "data": {
      "text/html": [
       "<div>\n",
       "<style scoped>\n",
       "    .dataframe tbody tr th:only-of-type {\n",
       "        vertical-align: middle;\n",
       "    }\n",
       "\n",
       "    .dataframe tbody tr th {\n",
       "        vertical-align: top;\n",
       "    }\n",
       "\n",
       "    .dataframe thead th {\n",
       "        text-align: right;\n",
       "    }\n",
       "</style>\n",
       "<table border=\"1\" class=\"dataframe\">\n",
       "  <thead>\n",
       "    <tr style=\"text-align: right;\">\n",
       "      <th></th>\n",
       "      <th>Unnamed: 0</th>\n",
       "      <th>popularity</th>\n",
       "      <th>danceability</th>\n",
       "      <th>energy</th>\n",
       "      <th>key</th>\n",
       "      <th>loudness</th>\n",
       "      <th>mode</th>\n",
       "      <th>speechiness</th>\n",
       "      <th>acousticness</th>\n",
       "      <th>instrumentalness</th>\n",
       "      <th>liveness</th>\n",
       "      <th>valence</th>\n",
       "      <th>tempo</th>\n",
       "      <th>duration</th>\n",
       "      <th>id_new</th>\n",
       "      <th>class</th>\n",
       "    </tr>\n",
       "  </thead>\n",
       "  <tbody>\n",
       "    <tr>\n",
       "      <th>count</th>\n",
       "      <td>70.000000</td>\n",
       "      <td>70.000000</td>\n",
       "      <td>70.000000</td>\n",
       "      <td>70.000000</td>\n",
       "      <td>70.000000</td>\n",
       "      <td>70.000000</td>\n",
       "      <td>70.000000</td>\n",
       "      <td>70.000000</td>\n",
       "      <td>70.000000</td>\n",
       "      <td>70.000000</td>\n",
       "      <td>70.000000</td>\n",
       "      <td>70.000000</td>\n",
       "      <td>70.000000</td>\n",
       "      <td>7.000000e+01</td>\n",
       "      <td>70.000000</td>\n",
       "      <td>70.0</td>\n",
       "    </tr>\n",
       "    <tr>\n",
       "      <th>mean</th>\n",
       "      <td>35.500000</td>\n",
       "      <td>56.957143</td>\n",
       "      <td>0.776000</td>\n",
       "      <td>0.778171</td>\n",
       "      <td>5.600000</td>\n",
       "      <td>-6.327571</td>\n",
       "      <td>0.571429</td>\n",
       "      <td>0.120620</td>\n",
       "      <td>0.158725</td>\n",
       "      <td>0.005461</td>\n",
       "      <td>0.189397</td>\n",
       "      <td>0.702671</td>\n",
       "      <td>105.910286</td>\n",
       "      <td>2.756467e+05</td>\n",
       "      <td>35.500000</td>\n",
       "      <td>1.0</td>\n",
       "    </tr>\n",
       "    <tr>\n",
       "      <th>std</th>\n",
       "      <td>20.351085</td>\n",
       "      <td>10.703427</td>\n",
       "      <td>0.080724</td>\n",
       "      <td>0.097774</td>\n",
       "      <td>3.696453</td>\n",
       "      <td>2.243060</td>\n",
       "      <td>0.498445</td>\n",
       "      <td>0.075096</td>\n",
       "      <td>0.132574</td>\n",
       "      <td>0.029874</td>\n",
       "      <td>0.128542</td>\n",
       "      <td>0.152090</td>\n",
       "      <td>28.554854</td>\n",
       "      <td>2.575437e+05</td>\n",
       "      <td>20.351085</td>\n",
       "      <td>0.0</td>\n",
       "    </tr>\n",
       "    <tr>\n",
       "      <th>min</th>\n",
       "      <td>1.000000</td>\n",
       "      <td>27.000000</td>\n",
       "      <td>0.503000</td>\n",
       "      <td>0.533000</td>\n",
       "      <td>0.000000</td>\n",
       "      <td>-13.268000</td>\n",
       "      <td>0.000000</td>\n",
       "      <td>0.032000</td>\n",
       "      <td>0.001650</td>\n",
       "      <td>0.000000</td>\n",
       "      <td>0.035400</td>\n",
       "      <td>0.354000</td>\n",
       "      <td>84.012000</td>\n",
       "      <td>1.516670e+05</td>\n",
       "      <td>1.000000</td>\n",
       "      <td>1.0</td>\n",
       "    </tr>\n",
       "    <tr>\n",
       "      <th>25%</th>\n",
       "      <td>18.250000</td>\n",
       "      <td>52.250000</td>\n",
       "      <td>0.743250</td>\n",
       "      <td>0.700250</td>\n",
       "      <td>1.000000</td>\n",
       "      <td>-7.128750</td>\n",
       "      <td>0.000000</td>\n",
       "      <td>0.064375</td>\n",
       "      <td>0.056025</td>\n",
       "      <td>0.000000</td>\n",
       "      <td>0.094475</td>\n",
       "      <td>0.582250</td>\n",
       "      <td>93.993500</td>\n",
       "      <td>1.964132e+05</td>\n",
       "      <td>18.250000</td>\n",
       "      <td>1.0</td>\n",
       "    </tr>\n",
       "    <tr>\n",
       "      <th>50%</th>\n",
       "      <td>35.500000</td>\n",
       "      <td>59.000000</td>\n",
       "      <td>0.792000</td>\n",
       "      <td>0.790000</td>\n",
       "      <td>6.500000</td>\n",
       "      <td>-6.031000</td>\n",
       "      <td>1.000000</td>\n",
       "      <td>0.090600</td>\n",
       "      <td>0.113000</td>\n",
       "      <td>0.000001</td>\n",
       "      <td>0.141000</td>\n",
       "      <td>0.722500</td>\n",
       "      <td>95.018500</td>\n",
       "      <td>2.195305e+05</td>\n",
       "      <td>35.500000</td>\n",
       "      <td>1.0</td>\n",
       "    </tr>\n",
       "    <tr>\n",
       "      <th>75%</th>\n",
       "      <td>52.750000</td>\n",
       "      <td>63.000000</td>\n",
       "      <td>0.827500</td>\n",
       "      <td>0.863500</td>\n",
       "      <td>9.000000</td>\n",
       "      <td>-4.959750</td>\n",
       "      <td>1.000000</td>\n",
       "      <td>0.161000</td>\n",
       "      <td>0.243500</td>\n",
       "      <td>0.000019</td>\n",
       "      <td>0.262500</td>\n",
       "      <td>0.830250</td>\n",
       "      <td>102.277750</td>\n",
       "      <td>2.509098e+05</td>\n",
       "      <td>52.750000</td>\n",
       "      <td>1.0</td>\n",
       "    </tr>\n",
       "    <tr>\n",
       "      <th>max</th>\n",
       "      <td>70.000000</td>\n",
       "      <td>75.000000</td>\n",
       "      <td>0.944000</td>\n",
       "      <td>0.946000</td>\n",
       "      <td>11.000000</td>\n",
       "      <td>-0.262000</td>\n",
       "      <td>1.000000</td>\n",
       "      <td>0.308000</td>\n",
       "      <td>0.563000</td>\n",
       "      <td>0.243000</td>\n",
       "      <td>0.776000</td>\n",
       "      <td>0.966000</td>\n",
       "      <td>214.058000</td>\n",
       "      <td>1.499600e+06</td>\n",
       "      <td>70.000000</td>\n",
       "      <td>1.0</td>\n",
       "    </tr>\n",
       "  </tbody>\n",
       "</table>\n",
       "</div>"
      ],
      "text/plain": [
       "       Unnamed: 0  popularity  danceability     energy        key   loudness  \\\n",
       "count   70.000000   70.000000     70.000000  70.000000  70.000000  70.000000   \n",
       "mean    35.500000   56.957143      0.776000   0.778171   5.600000  -6.327571   \n",
       "std     20.351085   10.703427      0.080724   0.097774   3.696453   2.243060   \n",
       "min      1.000000   27.000000      0.503000   0.533000   0.000000 -13.268000   \n",
       "25%     18.250000   52.250000      0.743250   0.700250   1.000000  -7.128750   \n",
       "50%     35.500000   59.000000      0.792000   0.790000   6.500000  -6.031000   \n",
       "75%     52.750000   63.000000      0.827500   0.863500   9.000000  -4.959750   \n",
       "max     70.000000   75.000000      0.944000   0.946000  11.000000  -0.262000   \n",
       "\n",
       "            mode  speechiness  acousticness  instrumentalness   liveness  \\\n",
       "count  70.000000    70.000000     70.000000         70.000000  70.000000   \n",
       "mean    0.571429     0.120620      0.158725          0.005461   0.189397   \n",
       "std     0.498445     0.075096      0.132574          0.029874   0.128542   \n",
       "min     0.000000     0.032000      0.001650          0.000000   0.035400   \n",
       "25%     0.000000     0.064375      0.056025          0.000000   0.094475   \n",
       "50%     1.000000     0.090600      0.113000          0.000001   0.141000   \n",
       "75%     1.000000     0.161000      0.243500          0.000019   0.262500   \n",
       "max     1.000000     0.308000      0.563000          0.243000   0.776000   \n",
       "\n",
       "         valence       tempo      duration     id_new  class  \n",
       "count  70.000000   70.000000  7.000000e+01  70.000000   70.0  \n",
       "mean    0.702671  105.910286  2.756467e+05  35.500000    1.0  \n",
       "std     0.152090   28.554854  2.575437e+05  20.351085    0.0  \n",
       "min     0.354000   84.012000  1.516670e+05   1.000000    1.0  \n",
       "25%     0.582250   93.993500  1.964132e+05  18.250000    1.0  \n",
       "50%     0.722500   95.018500  2.195305e+05  35.500000    1.0  \n",
       "75%     0.830250  102.277750  2.509098e+05  52.750000    1.0  \n",
       "max     0.966000  214.058000  1.499600e+06  70.000000    1.0  "
      ]
     },
     "execution_count": 8,
     "metadata": {},
     "output_type": "execute_result"
    }
   ],
   "source": [
    "df2.describe()"
   ]
  },
  {
   "cell_type": "markdown",
   "metadata": {},
   "source": [
    "La cantidad de canciones es de 70.\n",
    "Se combinaron los dos dataset, y se eliminaron las columnas que eran exclusivas de cada dataset. Se guardo el archivo en formato csv (sera adjuntado en el mail)"
   ]
  },
  {
   "cell_type": "code",
   "execution_count": 9,
   "metadata": {},
   "outputs": [],
   "source": [
    "df3 = pd.merge(df, df2, how='outer')\n",
    "df3 = df3.drop(columns='id_new')\n",
    "df3 = df3.drop(columns='time_signature')\n",
    "np.savetxt(\"output.csv\", df3, fmt=\"%f\", delimiter=\",\")"
   ]
  },
  {
   "cell_type": "markdown",
   "metadata": {},
   "source": [
    "Para analizar los graficos se contrarrestaron en un mismo grafico las canciones que son y no son de Reggaeton, si bien es cierto es dificil distinguir la distribucion de las canciones de reggaeton por su notoria diferencia de numero de canciones, en general es muy utilizada esta forma de exponer los datos porque compara directamente las distintas distribuciones de datos."
   ]
  },
  {
   "cell_type": "code",
   "execution_count": 10,
   "metadata": {},
   "outputs": [
    {
     "name": "stderr",
     "output_type": "stream",
     "text": [
      "/home/dahaka/.local/lib/python2.7/site-packages/numpy/core/fromnumeric.py:52: FutureWarning: reshape is deprecated and will raise in a subsequent release. Please use .values.reshape(...) instead\n",
      "  return getattr(obj, method)(*args, **kwds)\n"
     ]
    },
    {
     "data": {
      "text/plain": [
       "<matplotlib.legend.Legend at 0x7fe30a17a910>"
      ]
     },
     "execution_count": 10,
     "metadata": {},
     "output_type": "execute_result"
    },
    {
     "data": {
      "image/png": "[encoded data removed]",
      "text/plain": [
       "<matplotlib.figure.Figure at 0x7fe30a191fd0>"
      ]
     },
     "metadata": {},
     "output_type": "display_data"
    }
   ],
   "source": [
    "figure = plt.figure(figsize=(15,8))\n",
    "plt.hist([df3[df3['class']==1]['popularity'],df3[df3['class']==0]['popularity']], stacked=True, color = ['g','r'],\n",
    "         bins = 30,label = ['Reggaeton','No-Reggaeton'])\n",
    "plt.xlabel('Popularity')\n",
    "plt.ylabel('Numero de canciones')\n",
    "plt.legend()"
   ]
  },
  {
   "cell_type": "code",
   "execution_count": 11,
   "metadata": {},
   "outputs": [
    {
     "data": {
      "text/plain": [
       "<matplotlib.legend.Legend at 0x7fe309ff7410>"
      ]
     },
     "execution_count": 11,
     "metadata": {},
     "output_type": "execute_result"
    },
    {
     "data": {
      "image/png": "[encoded data removed]",
      "text/plain": [
       "<matplotlib.figure.Figure at 0x7fe30a02ae50>"
      ]
     },
     "metadata": {},
     "output_type": "display_data"
    }
   ],
   "source": [
    "figure = plt.figure(figsize=(15,8))\n",
    "plt.hist([df3[df3['class']==1]['danceability'],df3[df3['class']==0]['danceability']], stacked=True, color = ['g','r'],\n",
    "         bins = 30,label = ['Reggaeton','No-Reggaeton'])\n",
    "plt.xlabel('Danceability')\n",
    "plt.ylabel('Numero de canciones')\n",
    "plt.legend()"
   ]
  },
  {
   "cell_type": "code",
   "execution_count": 12,
   "metadata": {},
   "outputs": [
    {
     "data": {
      "text/plain": [
       "<matplotlib.legend.Legend at 0x7fe309fac550>"
      ]
     },
     "execution_count": 12,
     "metadata": {},
     "output_type": "execute_result"
    },
    {
     "data": {
      "image/png": "[encoded data removed]",
      "text/plain": [
       "<matplotlib.figure.Figure at 0x7fe307b69e50>"
      ]
     },
     "metadata": {},
     "output_type": "display_data"
    }
   ],
   "source": [
    "figure = plt.figure(figsize=(15,8))\n",
    "plt.hist([df3[df3['class']==1]['energy'],df3[df3['class']==0]['energy']], stacked=True, color = ['g','r'],\n",
    "         bins = 30,label = ['Reggaeton','No-Reggaeton'])\n",
    "plt.xlabel('Energy')\n",
    "plt.ylabel('Numero de canciones')\n",
    "plt.legend()"
   ]
  },
  {
   "cell_type": "code",
   "execution_count": 13,
   "metadata": {},
   "outputs": [
    {
     "data": {
      "text/plain": [
       "<matplotlib.legend.Legend at 0x7fe30a20c4d0>"
      ]
     },
     "execution_count": 13,
     "metadata": {},
     "output_type": "execute_result"
    },
    {
     "data": {
      "image/png": "[encoded data removed]",
      "text/plain": [
       "<matplotlib.figure.Figure at 0x7fe309e0be50>"
      ]
     },
     "metadata": {},
     "output_type": "display_data"
    }
   ],
   "source": [
    "figure = plt.figure(figsize=(15,8))\n",
    "plt.hist([df3[df3['class']==1]['key'],df3[df3['class']==0]['key']], stacked=True, color = ['g','r'],\n",
    "         bins = 30,label = ['Reggaeton','No-Reggaeton'])\n",
    "plt.xlabel('Key')\n",
    "plt.ylabel('Numero de canciones')\n",
    "plt.legend()"
   ]
  },
  {
   "cell_type": "code",
   "execution_count": 14,
   "metadata": {},
   "outputs": [
    {
     "data": {
      "text/plain": [
       "<matplotlib.legend.Legend at 0x7fe309df8990>"
      ]
     },
     "execution_count": 14,
     "metadata": {},
     "output_type": "execute_result"
    },
    {
     "data": {
      "image/png": "[encoded data removed]",
      "text/plain": [
       "<matplotlib.figure.Figure at 0x7fe309ddba90>"
      ]
     },
     "metadata": {},
     "output_type": "display_data"
    }
   ],
   "source": [
    "figure = plt.figure(figsize=(15,8))\n",
    "plt.hist([df3[df3['class']==1]['loudness'],df3[df3['class']==0]['loudness']], stacked=True, color = ['g','r'],\n",
    "         bins = 30,label = ['Reggaeton','No-Reggaeton'])\n",
    "plt.xlabel('Loudness')\n",
    "plt.ylabel('Numero de canciones')\n",
    "plt.legend()"
   ]
  },
  {
   "cell_type": "code",
   "execution_count": 15,
   "metadata": {},
   "outputs": [
    {
     "data": {
      "text/plain": [
       "<matplotlib.legend.Legend at 0x7fe30a1da290>"
      ]
     },
     "execution_count": 15,
     "metadata": {},
     "output_type": "execute_result"
    },
    {
     "data": {
      "image/png": "[encoded data removed]",
      "text/plain": [
       "<matplotlib.figure.Figure at 0x7fe30799e6d0>"
      ]
     },
     "metadata": {},
     "output_type": "display_data"
    }
   ],
   "source": [
    "figure = plt.figure(figsize=(15,8))\n",
    "plt.hist([df3[df3['class']==1]['mode'],df3[df3['class']==0]['mode']], stacked=True, color = ['g','r'],\n",
    "         bins = 30,label = ['Reggaeton','No-Reggaeton'])\n",
    "plt.xlabel('Mode')\n",
    "plt.ylabel('Numero de canciones')\n",
    "plt.legend()"
   ]
  },
  {
   "cell_type": "code",
   "execution_count": 16,
   "metadata": {},
   "outputs": [
    {
     "data": {
      "text/plain": [
       "<matplotlib.legend.Legend at 0x7fe307838e10>"
      ]
     },
     "execution_count": 16,
     "metadata": {},
     "output_type": "execute_result"
    },
    {
     "data": {
      "image/png": "[encoded data removed]",
      "text/plain": [
       "<matplotlib.figure.Figure at 0x7fe30784df10>"
      ]
     },
     "metadata": {},
     "output_type": "display_data"
    }
   ],
   "source": [
    "figure = plt.figure(figsize=(15,8))\n",
    "plt.hist([df3[df3['class']==1]['speechiness'],df3[df3['class']==0]['speechiness']], stacked=True, color = ['g','r'],\n",
    "         bins = 30,label = ['Reggaeton','No-Reggaeton'])\n",
    "plt.xlabel('Speechiness')\n",
    "plt.ylabel('Numero de canciones')\n",
    "plt.legend()"
   ]
  },
  {
   "cell_type": "code",
   "execution_count": 17,
   "metadata": {},
   "outputs": [
    {
     "data": {
      "text/plain": [
       "<matplotlib.legend.Legend at 0x7fe3076e8390>"
      ]
     },
     "execution_count": 17,
     "metadata": {},
     "output_type": "execute_result"
    },
    {
     "data": {
      "image/png": "[encoded data removed]",
      "text/plain": [
       "<matplotlib.figure.Figure at 0x7fe3077051d0>"
      ]
     },
     "metadata": {},
     "output_type": "display_data"
    }
   ],
   "source": [
    "figure = plt.figure(figsize=(15,8))\n",
    "plt.hist([df3[df3['class']==1]['acousticness'],df3[df3['class']==0]['acousticness']], stacked=True, color = ['g','r'],\n",
    "         bins = 30,label = ['Reggaeton','No-Reggaeton'])\n",
    "plt.xlabel('Acouctisness')\n",
    "plt.ylabel('Numero de canciones')\n",
    "plt.legend()"
   ]
  },
  {
   "cell_type": "code",
   "execution_count": 18,
   "metadata": {},
   "outputs": [
    {
     "data": {
      "text/plain": [
       "<matplotlib.legend.Legend at 0x7fe307617090>"
      ]
     },
     "execution_count": 18,
     "metadata": {},
     "output_type": "execute_result"
    },
    {
     "data": {
      "image/png": "[encoded data removed]",
      "text/plain": [
       "<matplotlib.figure.Figure at 0x7fe3076bf890>"
      ]
     },
     "metadata": {},
     "output_type": "display_data"
    }
   ],
   "source": [
    "figure = plt.figure(figsize=(15,8))\n",
    "plt.hist([df3[df3['class']==1]['instrumentalness'],df3[df3['class']==0]['instrumentalness']], stacked=True, color = ['g','r'],\n",
    "         bins = 30,label = ['Reggaeton','No-Reggaeton'])\n",
    "plt.xlabel('Instrumentalness')\n",
    "plt.ylabel('Numero de canciones')\n",
    "plt.legend()"
   ]
  },
  {
   "cell_type": "code",
   "execution_count": 19,
   "metadata": {},
   "outputs": [
    {
     "data": {
      "text/plain": [
       "<matplotlib.legend.Legend at 0x7fe307694210>"
      ]
     },
     "execution_count": 19,
     "metadata": {},
     "output_type": "execute_result"
    },
    {
     "data": {
      "image/png": "[encoded data removed]",
      "text/plain": [
       "<matplotlib.figure.Figure at 0x7fe3074d9910>"
      ]
     },
     "metadata": {},
     "output_type": "display_data"
    }
   ],
   "source": [
    "figure = plt.figure(figsize=(15,8))\n",
    "plt.hist([df3[df3['class']==1]['liveness'],df3[df3['class']==0]['liveness']], stacked=True, color = ['g','r'],\n",
    "         bins = 30,label = ['Reggaeton','No-Reggaeton'])\n",
    "plt.xlabel('Liveness')\n",
    "plt.ylabel('Numero de canciones')\n",
    "plt.legend()"
   ]
  },
  {
   "cell_type": "code",
   "execution_count": 20,
   "metadata": {},
   "outputs": [
    {
     "data": {
      "text/plain": [
       "<matplotlib.legend.Legend at 0x7fe307497590>"
      ]
     },
     "execution_count": 20,
     "metadata": {},
     "output_type": "execute_result"
    },
    {
     "data": {
      "image/png": "[encoded data removed]",
      "text/plain": [
       "<matplotlib.figure.Figure at 0x7fe30736f550>"
      ]
     },
     "metadata": {},
     "output_type": "display_data"
    }
   ],
   "source": [
    "figure = plt.figure(figsize=(15,8))\n",
    "plt.hist([df3[df3['class']==1]['valence'],df3[df3['class']==0]['valence']], stacked=True, color = ['g','r'],\n",
    "         bins = 30,label = ['Reggaeton','No-Reggaeton'])\n",
    "plt.xlabel('Valence')\n",
    "plt.ylabel('Numero de canciones')\n",
    "plt.legend()"
   ]
  },
  {
   "cell_type": "code",
   "execution_count": 21,
   "metadata": {},
   "outputs": [
    {
     "data": {
      "text/plain": [
       "<matplotlib.legend.Legend at 0x7fe3073f6990>"
      ]
     },
     "execution_count": 21,
     "metadata": {},
     "output_type": "execute_result"
    },
    {
     "data": {
      "image/png": "[encoded data removed]",
      "text/plain": [
       "<matplotlib.figure.Figure at 0x7fe3073306d0>"
      ]
     },
     "metadata": {},
     "output_type": "display_data"
    }
   ],
   "source": [
    "figure = plt.figure(figsize=(15,8))\n",
    "plt.hist([df3[df3['class']==1]['tempo'],df3[df3['class']==0]['tempo']], stacked=True, color = ['g','r'],\n",
    "         bins = 30,label = ['Reggaeton','No-Reggaeton'])\n",
    "plt.xlabel('Tempo')\n",
    "plt.ylabel('Numero de canciones')\n",
    "plt.legend()"
   ]
  },
  {
   "cell_type": "code",
   "execution_count": 22,
   "metadata": {},
   "outputs": [
    {
     "data": {
      "text/plain": [
       "<matplotlib.legend.Legend at 0x7fe307140a10>"
      ]
     },
     "execution_count": 22,
     "metadata": {},
     "output_type": "execute_result"
    },
    {
     "data": {
      "image/png": "[encoded data removed]",
      "text/plain": [
       "<matplotlib.figure.Figure at 0x7fe30715ca10>"
      ]
     },
     "metadata": {},
     "output_type": "display_data"
    }
   ],
   "source": [
    "figure = plt.figure(figsize=(15,8))\n",
    "plt.hist([df3[df3['class']==1]['duration'],df3[df3['class']==0]['duration']], stacked=True, color = ['g','r'],\n",
    "         bins = 30,label = ['Reggaeton','No-Reggaeton'])\n",
    "plt.xlabel('Duration')\n",
    "plt.ylabel('Numero de canciones')\n",
    "plt.legend()"
   ]
  },
  {
   "cell_type": "markdown",
   "metadata": {},
   "source": [
    "### Diferenciacion de los dataset\n",
    "\n",
    "Dado los graficos de mas arriba se aprecia que ciertas features se distribuyen de forma distinta, esto quiere decir que esas features son predominantes para clasificar si una cancion es o no una cancion de reggaeton... una forma rapida pero bastante simple es comparar la media con su incertidumbre correspondiente, determinada por la desviacion estandar y el numero de observaciones. Estos datos estadisticos se visualizan usando df.describe(), si bien es cierto la media de por ejemplo 'popularity' se distingue con claridad, pero la incertidumbre complica la comparativa dada la gran diferencia de observaciones, esto provoca que las canciones de reggaeton tengan una alta incertidumbre. Es por esta razon que se busca un modelo predictivo, para que no solo compare una sola feature, sino que con un algoritmo incluya todas las variantes en juego, asi tener una mayor precision a la hora de clasificar las canciones."
   ]
  },
  {
   "cell_type": "markdown",
   "metadata": {},
   "source": [
    "### Pregunta 3 y 4\n",
    "\n",
    "Creamos los modelos predictivos, para se uso el dataset 'df3' que contiene los dataset combinados. Definimos las variables que seran entrenadas,  escalamos los valores de X para tener una variable aleatoria, y una proyeccion de los datos. Usamos KFold y Cross Validation para evitar un sobre-entrenamiento de datos."
   ]
  },
  {
   "cell_type": "code",
   "execution_count": 23,
   "metadata": {},
   "outputs": [
    {
     "data": {
      "text/plain": [
       "98.95652173913044"
      ]
     },
     "execution_count": 23,
     "metadata": {},
     "output_type": "execute_result"
    }
   ],
   "source": [
    "X = np.array(df3.drop('class', axis=1))\n",
    "X = StandardScaler().fit_transform(X)\n",
    "y = np.array(df3['class'])\n",
    "X_train, X_test, y_train, y_test = train_test_split(X, y, test_size=0.25)\n",
    "def accuracy(model):\n",
    "    kf = KFold(n_splits=5)\n",
    "    crv = cross_val_score(model, X_train, y_train, cv=kf,scoring='accuracy')\n",
    "   \n",
    "    return crv.mean()*100\n",
    "\n",
    "accuracy(LogisticRegression())"
   ]
  },
  {
   "cell_type": "markdown",
   "metadata": {},
   "source": [
    "Se obtuvo la presicion del modelo de Logistic Regression, e incluimos ademas los modelos Random Forest y Support Vector Machine, para compararlos. Se uso ademas la matriz confusion, dado que entrega diversas herramientas para comparar la precision de cada modelo en base a la veracidad de los datos."
   ]
  },
  {
   "cell_type": "code",
   "execution_count": 24,
   "metadata": {},
   "outputs": [
    {
     "name": "stdout",
     "output_type": "stream",
     "text": [
      "             precision    recall  f1-score   support\n",
      "\n",
      "          0       0.99      0.99      0.99       556\n",
      "          1       0.80      0.63      0.71        19\n",
      "\n",
      "avg / total       0.98      0.98      0.98       575\n",
      "\n"
     ]
    }
   ],
   "source": [
    "clf = LogisticRegression()\n",
    "clf.fit(X_train,y_train)\n",
    "clf.score(X_test, y_test)*100\n",
    "\n",
    "con = confusion_matrix(y_test, clf.predict(X_test))\n",
    "print(classification_report(y_test, clf.predict(X_test)))\n",
    "\n",
    "\n"
   ]
  },
  {
   "cell_type": "code",
   "execution_count": 25,
   "metadata": {},
   "outputs": [
    {
     "data": {
      "text/plain": [
       "98.84057971014494"
      ]
     },
     "execution_count": 25,
     "metadata": {},
     "output_type": "execute_result"
    }
   ],
   "source": [
    "accuracy(RandomForestClassifier())"
   ]
  },
  {
   "cell_type": "code",
   "execution_count": 26,
   "metadata": {},
   "outputs": [
    {
     "name": "stdout",
     "output_type": "stream",
     "text": [
      "             precision    recall  f1-score   support\n",
      "\n",
      "          0       0.99      1.00      0.99       556\n",
      "          1       1.00      0.58      0.73        19\n",
      "\n",
      "avg / total       0.99      0.99      0.98       575\n",
      "\n"
     ]
    }
   ],
   "source": [
    "clf = RandomForestClassifier()\n",
    "clf.fit(X_train,y_train)\n",
    "clf.score(X_test, y_test)*100\n",
    "\n",
    "con = confusion_matrix(y_test, clf.predict(X_test))\n",
    "print(classification_report(y_test, clf.predict(X_test)))\n",
    "\n",
    "\n"
   ]
  },
  {
   "cell_type": "markdown",
   "metadata": {},
   "source": [
    "Para usar el modelo de SVM analizamos las features que sean mas determinantes "
   ]
  },
  {
   "cell_type": "code",
   "execution_count": 27,
   "metadata": {},
   "outputs": [
    {
     "name": "stdout",
     "output_type": "stream",
     "text": [
      "('Unnamed: 0', ': ', 47.48586986490213)\n",
      "('popularity', ': ', 0.0)\n",
      "('danceability', ': ', 3.6585870907502818)\n",
      "('energy', ': ', 0.0)\n",
      "('key', ': ', 0.0)\n",
      "('loudness', ': ', 1.8650967417570823)\n",
      "('mode', ': ', 0.0)\n",
      "('speechiness', ': ', 0.0)\n",
      "('acousticness', ': ', 0.0)\n",
      "('instrumentalness', ': ', 24.985688997977046)\n",
      "('liveness', ': ', 0.0)\n",
      "('valence', ': ', 19.499723032840237)\n",
      "('tempo', ': ', 2.5050342717732237)\n",
      "('duration', ': ', 0.0)\n"
     ]
    }
   ],
   "source": [
    "clf = DecisionTreeClassifier()\n",
    "clf.fit(X_train, y_train)\n",
    "C = clf.feature_importances_\n",
    "for i in range(len((C))):\n",
    "    print(df.columns[i], ': ', C[i]*100)"
   ]
  },
  {
   "cell_type": "code",
   "execution_count": 28,
   "metadata": {},
   "outputs": [
    {
     "data": {
      "text/plain": [
       "97.33695652173913"
      ]
     },
     "execution_count": 28,
     "metadata": {},
     "output_type": "execute_result"
    }
   ],
   "source": [
    "X = np.array(df3[['Unnamed: 0','instrumentalness','valence','tempo']])\n",
    "X = StandardScaler().fit_transform(X)\n",
    "y = np.array(df3['class'])\n",
    "\n",
    "X_train, X_test, y_train, y_test = train_test_split(X, y, test_size=0.2)\n",
    "accuracy(SVC(kernel='linear', C=0.1))"
   ]
  },
  {
   "cell_type": "code",
   "execution_count": 29,
   "metadata": {},
   "outputs": [
    {
     "name": "stdout",
     "output_type": "stream",
     "text": [
      "             precision    recall  f1-score   support\n",
      "\n",
      "          0       0.95      1.00      0.98       439\n",
      "          1       0.00      0.00      0.00        21\n",
      "\n",
      "avg / total       0.91      0.95      0.93       460\n",
      "\n"
     ]
    },
    {
     "name": "stderr",
     "output_type": "stream",
     "text": [
      "/home/dahaka/.local/lib/python2.7/site-packages/sklearn/metrics/classification.py:1135: UndefinedMetricWarning: Precision and F-score are ill-defined and being set to 0.0 in labels with no predicted samples.\n",
      "  'precision', 'predicted', average, warn_for)\n"
     ]
    }
   ],
   "source": [
    "clf = SVC(kernel='linear', C=0.1)\n",
    "clf.fit(X_train,y_train)\n",
    "clf.score(X_test, y_test)*100\n",
    "\n",
    "con = confusion_matrix(y_test, clf.predict(X_test))\n",
    "print(classification_report(y_test, clf.predict(X_test)))"
   ]
  },
  {
   "cell_type": "markdown",
   "metadata": {},
   "source": [
    "Se elegio el modelo Logistic Regression, porque se adapto mejor al comportamiento de los datos. Se que hay muchas formas de comparar modelo, de hecho con la experiencia se puede saber la tendencia de los datos, y asi determinar el modelo a utilizar, sin embargo es fundamental una comparacion de la presicion de cada modelo, porque no todos los problemas son intuitivos."
   ]
  },
  {
   "cell_type": "markdown",
   "metadata": {},
   "source": [
    "### Pregunta 5\n",
    "\n",
    "Dado el modelo predictivo elegido se usa para clasificar un nuevo data set. Para se utilizo el escalamiento que entreno los datos de  'df3' (La combinacion de los dos primeros dataset). Se ingreso el nuevo dataset como 'dft', y se ajustaron los datos del nuevo dataset con el escalamiento de entrenamiento. "
   ]
  },
  {
   "cell_type": "code",
   "execution_count": 30,
   "metadata": {},
   "outputs": [
    {
     "data": {
      "text/plain": [
       "array([0, 0, 1, 0, 0, 0, 1, 1, 0, 0, 0, 0, 0, 0, 0, 0, 1, 0, 0, 0, 0, 0,\n",
       "       0, 1, 0, 0, 0, 0, 1, 0, 0, 1, 0, 0, 0, 1, 0, 0, 0, 0, 0, 1, 0, 0,\n",
       "       0, 0, 0, 1, 0, 0])"
      ]
     },
     "execution_count": 30,
     "metadata": {},
     "output_type": "execute_result"
    }
   ],
   "source": [
    "X = np.array(df3.drop('class', axis=1))\n",
    "y = np.array(df3['class'])\n",
    "\n",
    "X_train, X_test, y_train, y_test = train_test_split(X, y, test_size=0.25)\n",
    "\n",
    "dft = pd.read_csv('data_test.csv')\n",
    "dft = dft.drop(columns='id_new')\n",
    "dft = dft.drop(columns='time_signature')\n",
    "\n",
    "scaler = StandardScaler()\n",
    "X_train = scaler.fit_transform(X_train)\n",
    "new_data = np.array(dft)\n",
    "new_data_scaled = scaler.transform(new_data)\n",
    "\n",
    "def accuracy(model):\n",
    "    kf = KFold(n_splits=5)\n",
    "    crv = cross_val_score(model, X_train, y_train, cv=kf,scoring='accuracy')\n",
    "   \n",
    "    return crv.mean()*100\n",
    "\n",
    "\n",
    "clf = LogisticRegression()\n",
    "clf.fit(X_train,y_train)\n",
    "clf.predict(new_data_scaled)"
   ]
  },
  {
   "cell_type": "markdown",
   "metadata": {},
   "source": [
    "Por utlimo se creo una columna 'new_class' que representa la clasificacion que es predecida al evaluar nuestro modelo. Esta columna se adjunto al nuevo dataset 'dft'"
   ]
  },
  {
   "cell_type": "code",
   "execution_count": 31,
   "metadata": {},
   "outputs": [
    {
     "data": {
      "text/html": [
       "<div>\n",
       "<style scoped>\n",
       "    .dataframe tbody tr th:only-of-type {\n",
       "        vertical-align: middle;\n",
       "    }\n",
       "\n",
       "    .dataframe tbody tr th {\n",
       "        vertical-align: top;\n",
       "    }\n",
       "\n",
       "    .dataframe thead th {\n",
       "        text-align: right;\n",
       "    }\n",
       "</style>\n",
       "<table border=\"1\" class=\"dataframe\">\n",
       "  <thead>\n",
       "    <tr style=\"text-align: right;\">\n",
       "      <th></th>\n",
       "      <th>Unnamed: 0</th>\n",
       "      <th>popularity</th>\n",
       "      <th>danceability</th>\n",
       "      <th>energy</th>\n",
       "      <th>key</th>\n",
       "      <th>loudness</th>\n",
       "      <th>mode</th>\n",
       "      <th>speechiness</th>\n",
       "      <th>acousticness</th>\n",
       "      <th>instrumentalness</th>\n",
       "      <th>liveness</th>\n",
       "      <th>valence</th>\n",
       "      <th>tempo</th>\n",
       "      <th>duration</th>\n",
       "      <th>new_class</th>\n",
       "    </tr>\n",
       "  </thead>\n",
       "  <tbody>\n",
       "    <tr>\n",
       "      <th>0</th>\n",
       "      <td>1</td>\n",
       "      <td>60</td>\n",
       "      <td>0.607</td>\n",
       "      <td>0.875</td>\n",
       "      <td>0</td>\n",
       "      <td>-4.434</td>\n",
       "      <td>1</td>\n",
       "      <td>0.0605</td>\n",
       "      <td>0.00114</td>\n",
       "      <td>0.007650</td>\n",
       "      <td>0.4670</td>\n",
       "      <td>0.4570</td>\n",
       "      <td>131.058</td>\n",
       "      <td>264520</td>\n",
       "      <td>0</td>\n",
       "    </tr>\n",
       "    <tr>\n",
       "      <th>1</th>\n",
       "      <td>2</td>\n",
       "      <td>69</td>\n",
       "      <td>0.757</td>\n",
       "      <td>0.868</td>\n",
       "      <td>9</td>\n",
       "      <td>-9.326</td>\n",
       "      <td>1</td>\n",
       "      <td>0.0620</td>\n",
       "      <td>0.41100</td>\n",
       "      <td>0.002210</td>\n",
       "      <td>0.3550</td>\n",
       "      <td>0.8150</td>\n",
       "      <td>138.923</td>\n",
       "      <td>199200</td>\n",
       "      <td>0</td>\n",
       "    </tr>\n",
       "    <tr>\n",
       "      <th>2</th>\n",
       "      <td>3</td>\n",
       "      <td>88</td>\n",
       "      <td>0.791</td>\n",
       "      <td>0.866</td>\n",
       "      <td>6</td>\n",
       "      <td>-4.236</td>\n",
       "      <td>1</td>\n",
       "      <td>0.0497</td>\n",
       "      <td>0.24800</td>\n",
       "      <td>0.000005</td>\n",
       "      <td>0.0696</td>\n",
       "      <td>0.7100</td>\n",
       "      <td>96.011</td>\n",
       "      <td>217080</td>\n",
       "      <td>1</td>\n",
       "    </tr>\n",
       "    <tr>\n",
       "      <th>3</th>\n",
       "      <td>4</td>\n",
       "      <td>70</td>\n",
       "      <td>0.589</td>\n",
       "      <td>0.484</td>\n",
       "      <td>7</td>\n",
       "      <td>-6.622</td>\n",
       "      <td>1</td>\n",
       "      <td>0.0266</td>\n",
       "      <td>0.48900</td>\n",
       "      <td>0.000000</td>\n",
       "      <td>0.1130</td>\n",
       "      <td>0.0927</td>\n",
       "      <td>120.258</td>\n",
       "      <td>269973</td>\n",
       "      <td>0</td>\n",
       "    </tr>\n",
       "    <tr>\n",
       "      <th>4</th>\n",
       "      <td>5</td>\n",
       "      <td>61</td>\n",
       "      <td>0.617</td>\n",
       "      <td>0.771</td>\n",
       "      <td>10</td>\n",
       "      <td>-5.586</td>\n",
       "      <td>0</td>\n",
       "      <td>0.1120</td>\n",
       "      <td>0.03840</td>\n",
       "      <td>0.000003</td>\n",
       "      <td>0.1620</td>\n",
       "      <td>0.5530</td>\n",
       "      <td>180.002</td>\n",
       "      <td>267747</td>\n",
       "      <td>0</td>\n",
       "    </tr>\n",
       "  </tbody>\n",
       "</table>\n",
       "</div>"
      ],
      "text/plain": [
       "   Unnamed: 0  popularity  danceability  energy  key  loudness  mode  \\\n",
       "0           1          60         0.607   0.875    0    -4.434     1   \n",
       "1           2          69         0.757   0.868    9    -9.326     1   \n",
       "2           3          88         0.791   0.866    6    -4.236     1   \n",
       "3           4          70         0.589   0.484    7    -6.622     1   \n",
       "4           5          61         0.617   0.771   10    -5.586     0   \n",
       "\n",
       "   speechiness  acousticness  instrumentalness  liveness  valence    tempo  \\\n",
       "0       0.0605       0.00114          0.007650    0.4670   0.4570  131.058   \n",
       "1       0.0620       0.41100          0.002210    0.3550   0.8150  138.923   \n",
       "2       0.0497       0.24800          0.000005    0.0696   0.7100   96.011   \n",
       "3       0.0266       0.48900          0.000000    0.1130   0.0927  120.258   \n",
       "4       0.1120       0.03840          0.000003    0.1620   0.5530  180.002   \n",
       "\n",
       "   duration  new_class  \n",
       "0    264520          0  \n",
       "1    199200          0  \n",
       "2    217080          1  \n",
       "3    269973          0  \n",
       "4    267747          0  "
      ]
     },
     "execution_count": 31,
     "metadata": {},
     "output_type": "execute_result"
    }
   ],
   "source": [
    "dft['new_class'] = clf.predict(new_data_scaled)\n",
    "dft.head()"
   ]
  },
  {
   "cell_type": "code",
   "execution_count": 32,
   "metadata": {},
   "outputs": [
    {
     "data": {
      "text/html": [
       "<div>\n",
       "<style scoped>\n",
       "    .dataframe tbody tr th:only-of-type {\n",
       "        vertical-align: middle;\n",
       "    }\n",
       "\n",
       "    .dataframe tbody tr th {\n",
       "        vertical-align: top;\n",
       "    }\n",
       "\n",
       "    .dataframe thead th {\n",
       "        text-align: right;\n",
       "    }\n",
       "</style>\n",
       "<table border=\"1\" class=\"dataframe\">\n",
       "  <thead>\n",
       "    <tr style=\"text-align: right;\">\n",
       "      <th></th>\n",
       "      <th>Unnamed: 0</th>\n",
       "      <th>popularity</th>\n",
       "      <th>danceability</th>\n",
       "      <th>energy</th>\n",
       "      <th>key</th>\n",
       "      <th>loudness</th>\n",
       "      <th>mode</th>\n",
       "      <th>speechiness</th>\n",
       "      <th>acousticness</th>\n",
       "      <th>instrumentalness</th>\n",
       "      <th>liveness</th>\n",
       "      <th>valence</th>\n",
       "      <th>tempo</th>\n",
       "      <th>duration</th>\n",
       "      <th>new_class</th>\n",
       "    </tr>\n",
       "  </thead>\n",
       "  <tbody>\n",
       "    <tr>\n",
       "      <th>count</th>\n",
       "      <td>50.00000</td>\n",
       "      <td>50.000000</td>\n",
       "      <td>50.000000</td>\n",
       "      <td>50.000000</td>\n",
       "      <td>50.000000</td>\n",
       "      <td>50.000000</td>\n",
       "      <td>50.000000</td>\n",
       "      <td>50.000000</td>\n",
       "      <td>50.000000</td>\n",
       "      <td>50.000000</td>\n",
       "      <td>50.000000</td>\n",
       "      <td>50.000000</td>\n",
       "      <td>50.00000</td>\n",
       "      <td>50.000000</td>\n",
       "      <td>50.000000</td>\n",
       "    </tr>\n",
       "    <tr>\n",
       "      <th>mean</th>\n",
       "      <td>25.50000</td>\n",
       "      <td>66.880000</td>\n",
       "      <td>0.602540</td>\n",
       "      <td>0.709012</td>\n",
       "      <td>5.820000</td>\n",
       "      <td>-7.498040</td>\n",
       "      <td>0.560000</td>\n",
       "      <td>0.067878</td>\n",
       "      <td>0.232484</td>\n",
       "      <td>0.115466</td>\n",
       "      <td>0.138906</td>\n",
       "      <td>0.544072</td>\n",
       "      <td>121.36682</td>\n",
       "      <td>247553.980000</td>\n",
       "      <td>0.200000</td>\n",
       "    </tr>\n",
       "    <tr>\n",
       "      <th>std</th>\n",
       "      <td>14.57738</td>\n",
       "      <td>14.963411</td>\n",
       "      <td>0.165037</td>\n",
       "      <td>0.236425</td>\n",
       "      <td>3.509113</td>\n",
       "      <td>5.384327</td>\n",
       "      <td>0.501427</td>\n",
       "      <td>0.046266</td>\n",
       "      <td>0.288131</td>\n",
       "      <td>0.282794</td>\n",
       "      <td>0.114767</td>\n",
       "      <td>0.273260</td>\n",
       "      <td>33.26185</td>\n",
       "      <td>65363.087448</td>\n",
       "      <td>0.404061</td>\n",
       "    </tr>\n",
       "    <tr>\n",
       "      <th>min</th>\n",
       "      <td>1.00000</td>\n",
       "      <td>31.000000</td>\n",
       "      <td>0.143000</td>\n",
       "      <td>0.011800</td>\n",
       "      <td>0.000000</td>\n",
       "      <td>-28.011000</td>\n",
       "      <td>0.000000</td>\n",
       "      <td>0.026600</td>\n",
       "      <td>0.000068</td>\n",
       "      <td>0.000000</td>\n",
       "      <td>0.042400</td>\n",
       "      <td>0.065900</td>\n",
       "      <td>57.83200</td>\n",
       "      <td>127920.000000</td>\n",
       "      <td>0.000000</td>\n",
       "    </tr>\n",
       "    <tr>\n",
       "      <th>25%</th>\n",
       "      <td>13.25000</td>\n",
       "      <td>60.000000</td>\n",
       "      <td>0.502000</td>\n",
       "      <td>0.662500</td>\n",
       "      <td>2.500000</td>\n",
       "      <td>-7.391000</td>\n",
       "      <td>0.000000</td>\n",
       "      <td>0.038950</td>\n",
       "      <td>0.037800</td>\n",
       "      <td>0.000000</td>\n",
       "      <td>0.071650</td>\n",
       "      <td>0.323750</td>\n",
       "      <td>96.25550</td>\n",
       "      <td>204295.250000</td>\n",
       "      <td>0.000000</td>\n",
       "    </tr>\n",
       "    <tr>\n",
       "      <th>50%</th>\n",
       "      <td>25.50000</td>\n",
       "      <td>70.000000</td>\n",
       "      <td>0.623000</td>\n",
       "      <td>0.775500</td>\n",
       "      <td>6.500000</td>\n",
       "      <td>-6.244000</td>\n",
       "      <td>1.000000</td>\n",
       "      <td>0.050100</td>\n",
       "      <td>0.108500</td>\n",
       "      <td>0.000044</td>\n",
       "      <td>0.103000</td>\n",
       "      <td>0.573000</td>\n",
       "      <td>111.32150</td>\n",
       "      <td>250097.000000</td>\n",
       "      <td>0.000000</td>\n",
       "    </tr>\n",
       "    <tr>\n",
       "      <th>75%</th>\n",
       "      <td>37.75000</td>\n",
       "      <td>76.000000</td>\n",
       "      <td>0.743000</td>\n",
       "      <td>0.867500</td>\n",
       "      <td>9.000000</td>\n",
       "      <td>-4.285500</td>\n",
       "      <td>1.000000</td>\n",
       "      <td>0.077975</td>\n",
       "      <td>0.348000</td>\n",
       "      <td>0.004095</td>\n",
       "      <td>0.132500</td>\n",
       "      <td>0.789000</td>\n",
       "      <td>135.62550</td>\n",
       "      <td>271340.250000</td>\n",
       "      <td>0.000000</td>\n",
       "    </tr>\n",
       "    <tr>\n",
       "      <th>max</th>\n",
       "      <td>50.00000</td>\n",
       "      <td>92.000000</td>\n",
       "      <td>0.868000</td>\n",
       "      <td>0.972000</td>\n",
       "      <td>11.000000</td>\n",
       "      <td>-2.965000</td>\n",
       "      <td>1.000000</td>\n",
       "      <td>0.236000</td>\n",
       "      <td>0.989000</td>\n",
       "      <td>0.943000</td>\n",
       "      <td>0.515000</td>\n",
       "      <td>0.965000</td>\n",
       "      <td>198.05000</td>\n",
       "      <td>564240.000000</td>\n",
       "      <td>1.000000</td>\n",
       "    </tr>\n",
       "  </tbody>\n",
       "</table>\n",
       "</div>"
      ],
      "text/plain": [
       "       Unnamed: 0  popularity  danceability     energy        key   loudness  \\\n",
       "count    50.00000   50.000000     50.000000  50.000000  50.000000  50.000000   \n",
       "mean     25.50000   66.880000      0.602540   0.709012   5.820000  -7.498040   \n",
       "std      14.57738   14.963411      0.165037   0.236425   3.509113   5.384327   \n",
       "min       1.00000   31.000000      0.143000   0.011800   0.000000 -28.011000   \n",
       "25%      13.25000   60.000000      0.502000   0.662500   2.500000  -7.391000   \n",
       "50%      25.50000   70.000000      0.623000   0.775500   6.500000  -6.244000   \n",
       "75%      37.75000   76.000000      0.743000   0.867500   9.000000  -4.285500   \n",
       "max      50.00000   92.000000      0.868000   0.972000  11.000000  -2.965000   \n",
       "\n",
       "            mode  speechiness  acousticness  instrumentalness   liveness  \\\n",
       "count  50.000000    50.000000     50.000000         50.000000  50.000000   \n",
       "mean    0.560000     0.067878      0.232484          0.115466   0.138906   \n",
       "std     0.501427     0.046266      0.288131          0.282794   0.114767   \n",
       "min     0.000000     0.026600      0.000068          0.000000   0.042400   \n",
       "25%     0.000000     0.038950      0.037800          0.000000   0.071650   \n",
       "50%     1.000000     0.050100      0.108500          0.000044   0.103000   \n",
       "75%     1.000000     0.077975      0.348000          0.004095   0.132500   \n",
       "max     1.000000     0.236000      0.989000          0.943000   0.515000   \n",
       "\n",
       "         valence      tempo       duration  new_class  \n",
       "count  50.000000   50.00000      50.000000  50.000000  \n",
       "mean    0.544072  121.36682  247553.980000   0.200000  \n",
       "std     0.273260   33.26185   65363.087448   0.404061  \n",
       "min     0.065900   57.83200  127920.000000   0.000000  \n",
       "25%     0.323750   96.25550  204295.250000   0.000000  \n",
       "50%     0.573000  111.32150  250097.000000   0.000000  \n",
       "75%     0.789000  135.62550  271340.250000   0.000000  \n",
       "max     0.965000  198.05000  564240.000000   1.000000  "
      ]
     },
     "execution_count": 32,
     "metadata": {},
     "output_type": "execute_result"
    }
   ],
   "source": [
    "dft.describe()"
   ]
  },
  {
   "cell_type": "markdown",
   "metadata": {},
   "source": [
    "Los datos estadisticos determinan la media de la columna 'new_class', dando un 20%, o sea que 10 de 50 canciones son de reggaeton."
   ]
  },
  {
   "cell_type": "markdown",
   "metadata": {},
   "source": [
    "### Conclusiones\n",
    "\n",
    "Se realizo un analisis completo de una combinacion de dos dataset, estos dataset clasificaban si una cancion es o no de reggaeton. La combinacion de los dataset se utilizo para diferenciar los dataset y crear un modelo en base a entrenamiento de datos, la precision de los distintos modelos fue buena, alrededor de un 96%. Para determinar que modelo elegir se compararon de diferentes formas su precision encontrando un mejor rendimiento con el modelo de Logistic Regression. Se guardo con una variable el escalamiento usado para el entrenamiento de datos, con ese escalamiento se clasifico  las canciones del nuevo dataset, encontrando ¿ que 10 de 50 canciones son de reggaeton.\n",
    "\n",
    "Realice este analisis y explique paso por paso las herramientas utilizadas de forma tecnica, tengo claro que uando trabaje en su empresa tendre que resumir y ajustar el lenguaje para un entendimiento simple y claro para la mejor toma de desicion de la gerencia. "
   ]
  },
  {
   "cell_type": "markdown",
   "metadata": {},
   "source": [
    "### Referencias\n",
    "\n",
    "1. https://archive.ics.uci.edu/ml/datasets/pima+indians+diabetes\n",
    "2. https://www.ncbi.nlm.nihgov/pmc/articles/PMC2245318/pdf/procascamc00018-0276.pdf\n",
    "3. http://scikit-learn.org/stable/modules/model_evaluation.html#precision-recall-f-measure-metrics\n",
    "4. https://www.analyticsvidhya.com/blog/2017/09/common-machine-learning-algorithms/\n",
    "5. https://www.analyticsvidhya.com/blog/2014/10/support-vector-machine-simplified/\n",
    "6. https://www.analyticsvidhya.com/blog/2017/09/understaing-support-vector-machine-example-code/\n",
    "7. https://relopezbriega.github.io/blog/2015/10/10/machine-learning-con-python/"
   ]
  }
 ],
 "metadata": {
  "kernelspec": {
   "display_name": "Python 2",
   "language": "python",
   "name": "python2"
  },
  "language_info": {
   "codemirror_mode": {
    "name": "ipython",
    "version": 2
   },
   "file_extension": ".py",
   "mimetype": "text/x-python",
   "name": "python",
   "nbconvert_exporter": "python",
   "pygments_lexer": "ipython2",
   "version": "2.7.14"
  }
 },
 "nbformat": 4,
 "nbformat_minor": 2
}
